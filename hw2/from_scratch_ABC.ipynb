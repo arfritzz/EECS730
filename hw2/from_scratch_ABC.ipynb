{
 "cells": [
  {
   "cell_type": "code",
   "execution_count": 1,
   "metadata": {},
   "outputs": [],
   "source": [
    "import numpy as np\n",
    "import pandas as pd\n",
    "import csv"
   ]
  },
  {
   "cell_type": "code",
   "execution_count": 2,
   "metadata": {},
   "outputs": [],
   "source": [
    "df = pd.read_csv('fragmented_reads_table.csv')\n",
    "seq_list = df['Sequence'].to_list()"
   ]
  },
  {
   "cell_type": "code",
   "execution_count": 3,
   "metadata": {},
   "outputs": [],
   "source": [
    "bet = [ 'ABCDEF', 'JKLM', 'IJ', 'LMNOP', 'DEFGHI', 'JKLMNOP', 'ABC']"
   ]
  },
  {
   "cell_type": "markdown",
   "metadata": {},
   "source": [
    "With help from: \n",
    "\n",
    "https://stackoverflow.com/questions/58598805/how-to-find-the-longest-common-suffix-prefix-between-two-strings-in-python-in-a"
   ]
  },
  {
   "cell_type": "markdown",
   "metadata": {},
   "source": [
    "# find errors"
   ]
  },
  {
   "cell_type": "code",
   "execution_count": null,
   "metadata": {},
   "outputs": [],
   "source": []
  },
  {
   "cell_type": "markdown",
   "metadata": {},
   "source": [
    "# overlap "
   ]
  },
  {
   "cell_type": "code",
   "execution_count": 4,
   "metadata": {},
   "outputs": [],
   "source": [
    "def overlap(a, b, min_length):\n",
    "    \"\"\" Return length of longest suffix of 'a' matching\n",
    "        a prefix of 'b' that is at least 'min_length'\n",
    "        characters long.  If no such overlap exists,\n",
    "        return 0. \"\"\"\n",
    "    start = 0  # start all the way at the left\n",
    "    while True:\n",
    "        start = a.find(b[:min_length], start)  # look for b's prefix in a\n",
    "        if start == -1:  # no more occurrences to right\n",
    "            return 0\n",
    "        # found occurrence; check for full suffix/prefix match\n",
    "        if b.startswith(a[start:]):\n",
    "            return len(a)-start\n",
    "        start += 1  # move just past previous match"
   ]
  },
  {
   "cell_type": "code",
   "execution_count": 5,
   "metadata": {},
   "outputs": [
    {
     "data": {
      "text/plain": [
       "0"
      ]
     },
     "execution_count": 5,
     "metadata": {},
     "output_type": "execute_result"
    }
   ],
   "source": [
    "overlap('abc', 'ghi',1)"
   ]
  },
  {
   "cell_type": "code",
   "execution_count": 6,
   "metadata": {},
   "outputs": [],
   "source": [
    "import itertools "
   ]
  },
  {
   "cell_type": "markdown",
   "metadata": {},
   "source": [
    "# find start & end \n",
    "\n",
    "need to find the start & end for the directed graph "
   ]
  },
  {
   "cell_type": "code",
   "execution_count": 7,
   "metadata": {},
   "outputs": [
    {
     "name": "stdout",
     "output_type": "stream",
     "text": [
      "['ABCDEF', 'JKLM', 'IJ', 'LMNOP', 'DEFGHI', 'JKLMNOP', 'ABC']\n"
     ]
    }
   ],
   "source": [
    "print(bet)"
   ]
  },
  {
   "cell_type": "code",
   "execution_count": 8,
   "metadata": {},
   "outputs": [
    {
     "name": "stdout",
     "output_type": "stream",
     "text": [
      "('ABCDEF', 'JKLM')\n",
      "('ABCDEF', 'IJ')\n",
      "('ABCDEF', 'LMNOP')\n",
      "('ABCDEF', 'DEFGHI')\n",
      "('ABCDEF', 'JKLMNOP')\n",
      "('ABCDEF', 'ABC')\n",
      "('JKLM', 'ABCDEF')\n",
      "('JKLM', 'IJ')\n",
      "('JKLM', 'LMNOP')\n",
      "('JKLM', 'DEFGHI')\n",
      "('JKLM', 'JKLMNOP')\n",
      "('JKLM', 'ABC')\n",
      "('IJ', 'ABCDEF')\n",
      "('IJ', 'JKLM')\n",
      "('IJ', 'LMNOP')\n",
      "('IJ', 'DEFGHI')\n",
      "('IJ', 'JKLMNOP')\n",
      "('IJ', 'ABC')\n",
      "('LMNOP', 'ABCDEF')\n",
      "('LMNOP', 'JKLM')\n",
      "('LMNOP', 'IJ')\n",
      "('LMNOP', 'DEFGHI')\n",
      "('LMNOP', 'JKLMNOP')\n",
      "('LMNOP', 'ABC')\n",
      "('DEFGHI', 'ABCDEF')\n",
      "('DEFGHI', 'JKLM')\n",
      "('DEFGHI', 'IJ')\n",
      "('DEFGHI', 'LMNOP')\n",
      "('DEFGHI', 'JKLMNOP')\n",
      "('DEFGHI', 'ABC')\n",
      "('JKLMNOP', 'ABCDEF')\n",
      "('JKLMNOP', 'JKLM')\n",
      "('JKLMNOP', 'IJ')\n",
      "('JKLMNOP', 'LMNOP')\n",
      "('JKLMNOP', 'DEFGHI')\n",
      "('JKLMNOP', 'ABC')\n",
      "('ABC', 'ABCDEF')\n",
      "('ABC', 'JKLM')\n",
      "('ABC', 'IJ')\n",
      "('ABC', 'LMNOP')\n",
      "('ABC', 'DEFGHI')\n",
      "('ABC', 'JKLMNOP')\n"
     ]
    }
   ],
   "source": [
    "for pair in itertools.permutations(bet,2):\n",
    "    print(pair)"
   ]
  },
  {
   "cell_type": "code",
   "execution_count": 9,
   "metadata": {},
   "outputs": [],
   "source": [
    "def find_start(alphabet, match_length): \n",
    "\n",
    "    start_list = alphabet.copy() \n",
    "    for pair in itertools.permutations(alphabet,2): \n",
    "            #print(pair)\n",
    "            for i in range(len(pair)-1): \n",
    "                overlap_len = (overlap(pair[i],pair[i+1],match_length))\n",
    "                if (overlap_len > 0): \n",
    "                    #print(pair[i+1])\n",
    "                    pair_to_remove = pair[i+1]\n",
    "                    if(pair_to_remove in start_list):    \n",
    "                        #print(\"here\")\n",
    "                        start_list.remove(pair_to_remove)\n",
    "\n",
    "    return(start_list)"
   ]
  },
  {
   "cell_type": "code",
   "execution_count": 10,
   "metadata": {},
   "outputs": [
    {
     "data": {
      "text/plain": [
       "['ABC']"
      ]
     },
     "execution_count": 10,
     "metadata": {},
     "output_type": "execute_result"
    }
   ],
   "source": [
    "find_start(bet,1)"
   ]
  },
  {
   "cell_type": "code",
   "execution_count": 11,
   "metadata": {},
   "outputs": [
    {
     "data": {
      "text/plain": [
       "['CCCTGTCTACCACCCAGACTATCGTGTAGTTCTGCCTGTTCCGTAAGTCGTAGATTGCTATCCTGGAAATCATCGTGCTCAGGATGTTAATATCTAGCGT']"
      ]
     },
     "execution_count": 11,
     "metadata": {},
     "output_type": "execute_result"
    }
   ],
   "source": [
    "find_start(seq_list,5)"
   ]
  },
  {
   "cell_type": "code",
   "execution_count": 12,
   "metadata": {},
   "outputs": [
    {
     "data": {
      "text/plain": [
       "'CCCTGTCTACCACCCAGACTATCGTGTAGTTCTGCCTGTTCCGTAAGTCGTAGATTGCTATCCTGGAAATCATCGTGCTCAGGATGTTAATATCTAGCGT'"
      ]
     },
     "execution_count": 12,
     "metadata": {},
     "output_type": "execute_result"
    }
   ],
   "source": [
    "seq_list[0]"
   ]
  },
  {
   "cell_type": "code",
   "execution_count": 13,
   "metadata": {},
   "outputs": [
    {
     "name": "stdout",
     "output_type": "stream",
     "text": [
      "True\n"
     ]
    }
   ],
   "source": [
    "print(seq_list[0]== find_start(seq_list,5)[0])"
   ]
  },
  {
   "cell_type": "markdown",
   "metadata": {},
   "source": [
    "Says this is the start \n",
    "\n",
    "CCCTGTCTACCACCCAGACTATCGTGTAGTTCTGCCTGTTCCGTAAGTCGTAGATTGCTATCCTGGAAATCATCGTGCTCAGGATGTTAATATCTAGCGT"
   ]
  },
  {
   "cell_type": "code",
   "execution_count": 14,
   "metadata": {},
   "outputs": [],
   "source": [
    "def find_end(alphabet, match_length): \n",
    "\n",
    "    start_list = alphabet.copy() \n",
    "    for pair in itertools.permutations(alphabet,2): \n",
    "            #print(pair)\n",
    "            for i in range(len(pair)-1): \n",
    "                overlap_len = (overlap(pair[i],pair[i+1],match_length))\n",
    "                if (overlap_len > 0): \n",
    "                    #print(pair[i+1])\n",
    "                    pair_to_remove = pair[i]\n",
    "                    if(pair_to_remove in start_list):    \n",
    "                        #print(\"here\")\n",
    "                        start_list.remove(pair_to_remove)\n",
    "\n",
    "    return(start_list)"
   ]
  },
  {
   "cell_type": "code",
   "execution_count": 15,
   "metadata": {},
   "outputs": [
    {
     "data": {
      "text/plain": [
       "['CGCGCCCTGCAGAATCCCAAGATTCGCCAGGCGGCGAACGAGGCCTACGGGCAACGGGTTATACTTAGCTGCAACCAACGCCTTTCCACATGTTTGAGAA']"
      ]
     },
     "execution_count": 15,
     "metadata": {},
     "output_type": "execute_result"
    }
   ],
   "source": [
    "find_end(seq_list,5)"
   ]
  },
  {
   "cell_type": "markdown",
   "metadata": {},
   "source": [
    "Says this is the end \n",
    "\n",
    "CGCGCCCTGCAGAATCCCAAGATTCGCCAGGCGGCGAACGAGGCCTACGGGCAACGGGTTATACTTAGCTGCAACCAACGCCTTTCCACATGTTTGAGAA"
   ]
  },
  {
   "cell_type": "code",
   "execution_count": 16,
   "metadata": {},
   "outputs": [
    {
     "name": "stdout",
     "output_type": "stream",
     "text": [
      "True\n"
     ]
    }
   ],
   "source": [
    "print(seq_list[-1] == find_end(seq_list,5)[0])"
   ]
  },
  {
   "cell_type": "markdown",
   "metadata": {},
   "source": [
    "# Layout "
   ]
  },
  {
   "cell_type": "code",
   "execution_count": 17,
   "metadata": {},
   "outputs": [],
   "source": [
    "pair_dict = [] \n",
    "\n",
    "for pair in itertools.permutations(bet,2):\n",
    "    my_pair = (pair[0], pair[1] ,overlap(pair[0], pair[1],1))\n",
    "    pair_dict.append(my_pair)"
   ]
  },
  {
   "cell_type": "code",
   "execution_count": 18,
   "metadata": {},
   "outputs": [],
   "source": [
    "#from pandas import DataFrame\n",
    "#df = DataFrame(pair_dict,columns=['start', 'end', 'overlap'])"
   ]
  },
  {
   "cell_type": "code",
   "execution_count": 19,
   "metadata": {},
   "outputs": [
    {
     "data": {
      "text/html": [
       "<div>\n",
       "<style scoped>\n",
       "    .dataframe tbody tr th:only-of-type {\n",
       "        vertical-align: middle;\n",
       "    }\n",
       "\n",
       "    .dataframe tbody tr th {\n",
       "        vertical-align: top;\n",
       "    }\n",
       "\n",
       "    .dataframe thead th {\n",
       "        text-align: right;\n",
       "    }\n",
       "</style>\n",
       "<table border=\"1\" class=\"dataframe\">\n",
       "  <thead>\n",
       "    <tr style=\"text-align: right;\">\n",
       "      <th></th>\n",
       "      <th>start</th>\n",
       "      <th>end</th>\n",
       "      <th>overlap</th>\n",
       "    </tr>\n",
       "  </thead>\n",
       "  <tbody>\n",
       "    <tr>\n",
       "      <th>0</th>\n",
       "      <td>ABCDEF</td>\n",
       "      <td>JKLM</td>\n",
       "      <td>0</td>\n",
       "    </tr>\n",
       "    <tr>\n",
       "      <th>1</th>\n",
       "      <td>ABCDEF</td>\n",
       "      <td>IJ</td>\n",
       "      <td>0</td>\n",
       "    </tr>\n",
       "    <tr>\n",
       "      <th>2</th>\n",
       "      <td>ABCDEF</td>\n",
       "      <td>LMNOP</td>\n",
       "      <td>0</td>\n",
       "    </tr>\n",
       "    <tr>\n",
       "      <th>3</th>\n",
       "      <td>ABCDEF</td>\n",
       "      <td>DEFGHI</td>\n",
       "      <td>3</td>\n",
       "    </tr>\n",
       "    <tr>\n",
       "      <th>4</th>\n",
       "      <td>ABCDEF</td>\n",
       "      <td>JKLMNOP</td>\n",
       "      <td>0</td>\n",
       "    </tr>\n",
       "    <tr>\n",
       "      <th>5</th>\n",
       "      <td>ABCDEF</td>\n",
       "      <td>ABC</td>\n",
       "      <td>0</td>\n",
       "    </tr>\n",
       "    <tr>\n",
       "      <th>6</th>\n",
       "      <td>JKLM</td>\n",
       "      <td>ABCDEF</td>\n",
       "      <td>0</td>\n",
       "    </tr>\n",
       "    <tr>\n",
       "      <th>7</th>\n",
       "      <td>JKLM</td>\n",
       "      <td>IJ</td>\n",
       "      <td>0</td>\n",
       "    </tr>\n",
       "    <tr>\n",
       "      <th>8</th>\n",
       "      <td>JKLM</td>\n",
       "      <td>LMNOP</td>\n",
       "      <td>2</td>\n",
       "    </tr>\n",
       "    <tr>\n",
       "      <th>9</th>\n",
       "      <td>JKLM</td>\n",
       "      <td>DEFGHI</td>\n",
       "      <td>0</td>\n",
       "    </tr>\n",
       "    <tr>\n",
       "      <th>10</th>\n",
       "      <td>JKLM</td>\n",
       "      <td>JKLMNOP</td>\n",
       "      <td>4</td>\n",
       "    </tr>\n",
       "    <tr>\n",
       "      <th>11</th>\n",
       "      <td>JKLM</td>\n",
       "      <td>ABC</td>\n",
       "      <td>0</td>\n",
       "    </tr>\n",
       "    <tr>\n",
       "      <th>12</th>\n",
       "      <td>IJ</td>\n",
       "      <td>ABCDEF</td>\n",
       "      <td>0</td>\n",
       "    </tr>\n",
       "    <tr>\n",
       "      <th>13</th>\n",
       "      <td>IJ</td>\n",
       "      <td>JKLM</td>\n",
       "      <td>1</td>\n",
       "    </tr>\n",
       "    <tr>\n",
       "      <th>14</th>\n",
       "      <td>IJ</td>\n",
       "      <td>LMNOP</td>\n",
       "      <td>0</td>\n",
       "    </tr>\n",
       "    <tr>\n",
       "      <th>15</th>\n",
       "      <td>IJ</td>\n",
       "      <td>DEFGHI</td>\n",
       "      <td>0</td>\n",
       "    </tr>\n",
       "    <tr>\n",
       "      <th>16</th>\n",
       "      <td>IJ</td>\n",
       "      <td>JKLMNOP</td>\n",
       "      <td>1</td>\n",
       "    </tr>\n",
       "    <tr>\n",
       "      <th>17</th>\n",
       "      <td>IJ</td>\n",
       "      <td>ABC</td>\n",
       "      <td>0</td>\n",
       "    </tr>\n",
       "    <tr>\n",
       "      <th>18</th>\n",
       "      <td>LMNOP</td>\n",
       "      <td>ABCDEF</td>\n",
       "      <td>0</td>\n",
       "    </tr>\n",
       "    <tr>\n",
       "      <th>19</th>\n",
       "      <td>LMNOP</td>\n",
       "      <td>JKLM</td>\n",
       "      <td>0</td>\n",
       "    </tr>\n",
       "    <tr>\n",
       "      <th>20</th>\n",
       "      <td>LMNOP</td>\n",
       "      <td>IJ</td>\n",
       "      <td>0</td>\n",
       "    </tr>\n",
       "    <tr>\n",
       "      <th>21</th>\n",
       "      <td>LMNOP</td>\n",
       "      <td>DEFGHI</td>\n",
       "      <td>0</td>\n",
       "    </tr>\n",
       "    <tr>\n",
       "      <th>22</th>\n",
       "      <td>LMNOP</td>\n",
       "      <td>JKLMNOP</td>\n",
       "      <td>0</td>\n",
       "    </tr>\n",
       "    <tr>\n",
       "      <th>23</th>\n",
       "      <td>LMNOP</td>\n",
       "      <td>ABC</td>\n",
       "      <td>0</td>\n",
       "    </tr>\n",
       "    <tr>\n",
       "      <th>24</th>\n",
       "      <td>DEFGHI</td>\n",
       "      <td>ABCDEF</td>\n",
       "      <td>0</td>\n",
       "    </tr>\n",
       "    <tr>\n",
       "      <th>25</th>\n",
       "      <td>DEFGHI</td>\n",
       "      <td>JKLM</td>\n",
       "      <td>0</td>\n",
       "    </tr>\n",
       "    <tr>\n",
       "      <th>26</th>\n",
       "      <td>DEFGHI</td>\n",
       "      <td>IJ</td>\n",
       "      <td>1</td>\n",
       "    </tr>\n",
       "    <tr>\n",
       "      <th>27</th>\n",
       "      <td>DEFGHI</td>\n",
       "      <td>LMNOP</td>\n",
       "      <td>0</td>\n",
       "    </tr>\n",
       "    <tr>\n",
       "      <th>28</th>\n",
       "      <td>DEFGHI</td>\n",
       "      <td>JKLMNOP</td>\n",
       "      <td>0</td>\n",
       "    </tr>\n",
       "    <tr>\n",
       "      <th>29</th>\n",
       "      <td>DEFGHI</td>\n",
       "      <td>ABC</td>\n",
       "      <td>0</td>\n",
       "    </tr>\n",
       "    <tr>\n",
       "      <th>30</th>\n",
       "      <td>JKLMNOP</td>\n",
       "      <td>ABCDEF</td>\n",
       "      <td>0</td>\n",
       "    </tr>\n",
       "    <tr>\n",
       "      <th>31</th>\n",
       "      <td>JKLMNOP</td>\n",
       "      <td>JKLM</td>\n",
       "      <td>0</td>\n",
       "    </tr>\n",
       "    <tr>\n",
       "      <th>32</th>\n",
       "      <td>JKLMNOP</td>\n",
       "      <td>IJ</td>\n",
       "      <td>0</td>\n",
       "    </tr>\n",
       "    <tr>\n",
       "      <th>33</th>\n",
       "      <td>JKLMNOP</td>\n",
       "      <td>LMNOP</td>\n",
       "      <td>5</td>\n",
       "    </tr>\n",
       "    <tr>\n",
       "      <th>34</th>\n",
       "      <td>JKLMNOP</td>\n",
       "      <td>DEFGHI</td>\n",
       "      <td>0</td>\n",
       "    </tr>\n",
       "    <tr>\n",
       "      <th>35</th>\n",
       "      <td>JKLMNOP</td>\n",
       "      <td>ABC</td>\n",
       "      <td>0</td>\n",
       "    </tr>\n",
       "    <tr>\n",
       "      <th>36</th>\n",
       "      <td>ABC</td>\n",
       "      <td>ABCDEF</td>\n",
       "      <td>3</td>\n",
       "    </tr>\n",
       "    <tr>\n",
       "      <th>37</th>\n",
       "      <td>ABC</td>\n",
       "      <td>JKLM</td>\n",
       "      <td>0</td>\n",
       "    </tr>\n",
       "    <tr>\n",
       "      <th>38</th>\n",
       "      <td>ABC</td>\n",
       "      <td>IJ</td>\n",
       "      <td>0</td>\n",
       "    </tr>\n",
       "    <tr>\n",
       "      <th>39</th>\n",
       "      <td>ABC</td>\n",
       "      <td>LMNOP</td>\n",
       "      <td>0</td>\n",
       "    </tr>\n",
       "    <tr>\n",
       "      <th>40</th>\n",
       "      <td>ABC</td>\n",
       "      <td>DEFGHI</td>\n",
       "      <td>0</td>\n",
       "    </tr>\n",
       "    <tr>\n",
       "      <th>41</th>\n",
       "      <td>ABC</td>\n",
       "      <td>JKLMNOP</td>\n",
       "      <td>0</td>\n",
       "    </tr>\n",
       "  </tbody>\n",
       "</table>\n",
       "</div>"
      ],
      "text/plain": [
       "      start      end  overlap\n",
       "0    ABCDEF     JKLM        0\n",
       "1    ABCDEF       IJ        0\n",
       "2    ABCDEF    LMNOP        0\n",
       "3    ABCDEF   DEFGHI        3\n",
       "4    ABCDEF  JKLMNOP        0\n",
       "5    ABCDEF      ABC        0\n",
       "6      JKLM   ABCDEF        0\n",
       "7      JKLM       IJ        0\n",
       "8      JKLM    LMNOP        2\n",
       "9      JKLM   DEFGHI        0\n",
       "10     JKLM  JKLMNOP        4\n",
       "11     JKLM      ABC        0\n",
       "12       IJ   ABCDEF        0\n",
       "13       IJ     JKLM        1\n",
       "14       IJ    LMNOP        0\n",
       "15       IJ   DEFGHI        0\n",
       "16       IJ  JKLMNOP        1\n",
       "17       IJ      ABC        0\n",
       "18    LMNOP   ABCDEF        0\n",
       "19    LMNOP     JKLM        0\n",
       "20    LMNOP       IJ        0\n",
       "21    LMNOP   DEFGHI        0\n",
       "22    LMNOP  JKLMNOP        0\n",
       "23    LMNOP      ABC        0\n",
       "24   DEFGHI   ABCDEF        0\n",
       "25   DEFGHI     JKLM        0\n",
       "26   DEFGHI       IJ        1\n",
       "27   DEFGHI    LMNOP        0\n",
       "28   DEFGHI  JKLMNOP        0\n",
       "29   DEFGHI      ABC        0\n",
       "30  JKLMNOP   ABCDEF        0\n",
       "31  JKLMNOP     JKLM        0\n",
       "32  JKLMNOP       IJ        0\n",
       "33  JKLMNOP    LMNOP        5\n",
       "34  JKLMNOP   DEFGHI        0\n",
       "35  JKLMNOP      ABC        0\n",
       "36      ABC   ABCDEF        3\n",
       "37      ABC     JKLM        0\n",
       "38      ABC       IJ        0\n",
       "39      ABC    LMNOP        0\n",
       "40      ABC   DEFGHI        0\n",
       "41      ABC  JKLMNOP        0"
      ]
     },
     "execution_count": 19,
     "metadata": {},
     "output_type": "execute_result"
    }
   ],
   "source": [
    "#df"
   ]
  },
  {
   "cell_type": "code",
   "execution_count": 20,
   "metadata": {},
   "outputs": [
    {
     "name": "stdout",
     "output_type": "stream",
     "text": [
      "start      DEFGHI\n",
      "end         LMNOP\n",
      "overlap         0\n",
      "Name: 27, dtype: object\n"
     ]
    }
   ],
   "source": [
    "print(df.loc[27])"
   ]
  },
  {
   "cell_type": "code",
   "execution_count": 21,
   "metadata": {},
   "outputs": [
    {
     "name": "stdout",
     "output_type": "stream",
     "text": [
      "LMNOP\n"
     ]
    }
   ],
   "source": [
    "print(pair_dict[27][1])"
   ]
  },
  {
   "cell_type": "code",
   "execution_count": 22,
   "metadata": {},
   "outputs": [],
   "source": [
    "# find the best match and then concatanate them \n",
    "# take the second value and find the next best match "
   ]
  },
  {
   "cell_type": "code",
   "execution_count": 23,
   "metadata": {},
   "outputs": [
    {
     "data": {
      "text/plain": [
       "[('ABCDEF', 'JKLM', 0),\n",
       " ('ABCDEF', 'IJ', 0),\n",
       " ('ABCDEF', 'LMNOP', 0),\n",
       " ('ABCDEF', 'DEFGHI', 3),\n",
       " ('ABCDEF', 'JKLMNOP', 0),\n",
       " ('ABCDEF', 'ABC', 0),\n",
       " ('JKLM', 'ABCDEF', 0),\n",
       " ('JKLM', 'IJ', 0),\n",
       " ('JKLM', 'LMNOP', 2),\n",
       " ('JKLM', 'DEFGHI', 0),\n",
       " ('JKLM', 'JKLMNOP', 4),\n",
       " ('JKLM', 'ABC', 0),\n",
       " ('IJ', 'ABCDEF', 0),\n",
       " ('IJ', 'JKLM', 1),\n",
       " ('IJ', 'LMNOP', 0),\n",
       " ('IJ', 'DEFGHI', 0),\n",
       " ('IJ', 'JKLMNOP', 1),\n",
       " ('IJ', 'ABC', 0),\n",
       " ('LMNOP', 'ABCDEF', 0),\n",
       " ('LMNOP', 'JKLM', 0),\n",
       " ('LMNOP', 'IJ', 0),\n",
       " ('LMNOP', 'DEFGHI', 0),\n",
       " ('LMNOP', 'JKLMNOP', 0),\n",
       " ('LMNOP', 'ABC', 0),\n",
       " ('DEFGHI', 'ABCDEF', 0),\n",
       " ('DEFGHI', 'JKLM', 0),\n",
       " ('DEFGHI', 'IJ', 1),\n",
       " ('DEFGHI', 'LMNOP', 0),\n",
       " ('DEFGHI', 'JKLMNOP', 0),\n",
       " ('DEFGHI', 'ABC', 0),\n",
       " ('JKLMNOP', 'ABCDEF', 0),\n",
       " ('JKLMNOP', 'JKLM', 0),\n",
       " ('JKLMNOP', 'IJ', 0),\n",
       " ('JKLMNOP', 'LMNOP', 5),\n",
       " ('JKLMNOP', 'DEFGHI', 0),\n",
       " ('JKLMNOP', 'ABC', 0),\n",
       " ('ABC', 'ABCDEF', 3),\n",
       " ('ABC', 'JKLM', 0),\n",
       " ('ABC', 'IJ', 0),\n",
       " ('ABC', 'LMNOP', 0),\n",
       " ('ABC', 'DEFGHI', 0),\n",
       " ('ABC', 'JKLMNOP', 0)]"
      ]
     },
     "execution_count": 23,
     "metadata": {},
     "output_type": "execute_result"
    }
   ],
   "source": [
    "#pair_dict"
   ]
  },
  {
   "cell_type": "code",
   "execution_count": 24,
   "metadata": {},
   "outputs": [],
   "source": [
    "updated_dict = ([i for i in pair_dict if i[2] != 0 ])"
   ]
  },
  {
   "cell_type": "code",
   "execution_count": null,
   "metadata": {},
   "outputs": [],
   "source": [
    "updated_seq = ([i for i in seq_list if i[2] != 0 ])"
   ]
  },
  {
   "cell_type": "code",
   "execution_count": 25,
   "metadata": {},
   "outputs": [
    {
     "data": {
      "text/plain": [
       "[('ABCDEF', 'DEFGHI', 3),\n",
       " ('JKLM', 'LMNOP', 2),\n",
       " ('JKLM', 'JKLMNOP', 4),\n",
       " ('IJ', 'JKLM', 1),\n",
       " ('IJ', 'JKLMNOP', 1),\n",
       " ('DEFGHI', 'IJ', 1),\n",
       " ('JKLMNOP', 'LMNOP', 5),\n",
       " ('ABC', 'ABCDEF', 3)]"
      ]
     },
     "execution_count": 25,
     "metadata": {},
     "output_type": "execute_result"
    }
   ],
   "source": [
    "updated_dict"
   ]
  },
  {
   "cell_type": "code",
   "execution_count": 60,
   "metadata": {},
   "outputs": [
    {
     "name": "stdout",
     "output_type": "stream",
     "text": [
      "ABCDEFGHIJKLMNOP\n"
     ]
    }
   ],
   "source": [
    "final_string = 'ABC'\n",
    "start = 'ABC'\n",
    "y = True\n",
    "\n",
    "for x in updated_dict: \n",
    "    for y in updated_dict: \n",
    "        if (y[0] == start): \n",
    "            start = y[1]\n",
    "            final_string = final_string + (y[1][y[2]:])\n",
    "    \n",
    "print(final_string)"
   ]
  },
  {
   "cell_type": "code",
   "execution_count": null,
   "metadata": {},
   "outputs": [],
   "source": [
    "final_string = 'ABC'\n",
    "start = 'ABC'\n",
    "y = True\n",
    "\n",
    "for x in updated_dict: \n",
    "    for y in updated_dict: \n",
    "        if (y[0] == start): \n",
    "            start = y[1]\n",
    "            final_string = final_string + (y[1][y[2]:])\n",
    "    \n",
    "print(final_string)"
   ]
  },
  {
   "cell_type": "code",
   "execution_count": 48,
   "metadata": {},
   "outputs": [
    {
     "ename": "TypeError",
     "evalue": "list indices must be integers or slices, not tuple",
     "output_type": "error",
     "traceback": [
      "\u001b[0;31m---------------------------------------------------------------------------\u001b[0m",
      "\u001b[0;31mTypeError\u001b[0m                                 Traceback (most recent call last)",
      "\u001b[0;32m<ipython-input-48-2df4dadacc4d>\u001b[0m in \u001b[0;36m<module>\u001b[0;34m\u001b[0m\n\u001b[0;32m----> 1\u001b[0;31m \u001b[0mtraverse\u001b[0m\u001b[0;34m(\u001b[0m\u001b[0;34m'ABC'\u001b[0m\u001b[0;34m,\u001b[0m \u001b[0mupdated_dict\u001b[0m\u001b[0;34m)\u001b[0m\u001b[0;34m\u001b[0m\u001b[0;34m\u001b[0m\u001b[0m\n\u001b[0m",
      "\u001b[0;32m<ipython-input-36-e775a78e1c55>\u001b[0m in \u001b[0;36mtraverse\u001b[0;34m(start, graph)\u001b[0m\n\u001b[1;32m      4\u001b[0m \u001b[0;34m\u001b[0m\u001b[0m\n\u001b[1;32m      5\u001b[0m     \u001b[0;32mfor\u001b[0m \u001b[0mx\u001b[0m \u001b[0;32min\u001b[0m \u001b[0mgraph\u001b[0m\u001b[0;34m:\u001b[0m\u001b[0;34m\u001b[0m\u001b[0;34m\u001b[0m\u001b[0m\n\u001b[0;32m----> 6\u001b[0;31m         \u001b[0;32mif\u001b[0m \u001b[0;34m(\u001b[0m\u001b[0mgraph\u001b[0m\u001b[0;34m[\u001b[0m\u001b[0mx\u001b[0m\u001b[0;34m]\u001b[0m\u001b[0;34m[\u001b[0m\u001b[0;36m0\u001b[0m\u001b[0;34m]\u001b[0m \u001b[0;34m==\u001b[0m \u001b[0mstart\u001b[0m\u001b[0;34m)\u001b[0m\u001b[0;34m:\u001b[0m\u001b[0;34m\u001b[0m\u001b[0;34m\u001b[0m\u001b[0m\n\u001b[0m\u001b[1;32m      7\u001b[0m             \u001b[0;32mif\u001b[0m \u001b[0;34m(\u001b[0m\u001b[0mfinal_string\u001b[0m \u001b[0;34m==\u001b[0m \u001b[0;34m''\u001b[0m\u001b[0;34m)\u001b[0m\u001b[0;34m:\u001b[0m\u001b[0;34m\u001b[0m\u001b[0;34m\u001b[0m\u001b[0m\n\u001b[1;32m      8\u001b[0m                 \u001b[0mfinal_string\u001b[0m \u001b[0;34m+=\u001b[0m \u001b[0mx\u001b[0m\u001b[0;34m[\u001b[0m\u001b[0;36m0\u001b[0m\u001b[0;34m]\u001b[0m\u001b[0;34m\u001b[0m\u001b[0;34m\u001b[0m\u001b[0m\n",
      "\u001b[0;31mTypeError\u001b[0m: list indices must be integers or slices, not tuple"
     ]
    }
   ],
   "source": [
    "traverse('ABC', updated_dict)"
   ]
  },
  {
   "cell_type": "code",
   "execution_count": null,
   "metadata": {},
   "outputs": [],
   "source": []
  }
 ],
 "metadata": {
  "kernelspec": {
   "display_name": "Python 3",
   "language": "python",
   "name": "python3"
  },
  "language_info": {
   "codemirror_mode": {
    "name": "ipython",
    "version": 3
   },
   "file_extension": ".py",
   "mimetype": "text/x-python",
   "name": "python",
   "nbconvert_exporter": "python",
   "pygments_lexer": "ipython3",
   "version": "3.8.3"
  }
 },
 "nbformat": 4,
 "nbformat_minor": 4
}
